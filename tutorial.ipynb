{
 "cells": [
  {
   "cell_type": "code",
   "execution_count": null,
   "metadata": {},
   "outputs": [],
   "source": [
    "!gmx --version"
   ]
  },
  {
   "cell_type": "code",
   "execution_count": null,
   "metadata": {},
   "outputs": [],
   "source": [
    "!mkdir sim\n",
    "%cd sim"
   ]
  },
  {
   "cell_type": "code",
   "execution_count": null,
   "metadata": {},
   "outputs": [],
   "source": [
    "%%bash\n",
    "\n",
    "git clone https://github.com/m3g/packmol.git\n",
    "cd packmol\n",
    "git checkout v20.3.5\n",
    "./configure\n",
    "make"
   ]
  },
  {
   "cell_type": "code",
   "execution_count": null,
   "metadata": {},
   "outputs": [],
   "source": [
    "!git clone https://github.com/zhmurov/trappeua\n",
    "!mv trappeua/trappeua.ff .\n",
    "!rm -rf trappeua"
   ]
  },
  {
   "cell_type": "code",
   "execution_count": null,
   "metadata": {},
   "outputs": [],
   "source": [
    "!packmol/packmol < input/packmol.inp"
   ]
  },
  {
   "cell_type": "code",
   "execution_count": null,
   "metadata": {},
   "outputs": [],
   "source": [
    "!cp input/topol.top ."
   ]
  },
  {
   "cell_type": "code",
   "execution_count": null,
   "metadata": {},
   "outputs": [],
   "source": [
    "!gmx editconf -f conf.pdb -o conf.gro -box 4 4 4\n",
    "!gmx grompp -f input/em.mdp -c conf.gro -o em.tpr\n",
    "!gmx mdrun -deffnm em -nt 4"
   ]
  },
  {
   "cell_type": "code",
   "execution_count": null,
   "metadata": {},
   "outputs": [],
   "source": [
    "!gmx grompp -f input/nvt.mdp -c em.gro -o nvt.tpr\n",
    "!gmx mdrun -deffnm nvt -nt 4"
   ]
  },
  {
   "cell_type": "code",
   "execution_count": null,
   "metadata": {},
   "outputs": [],
   "source": [
    "!gmx grompp -f input/npt.mdp -c nvt.gro -o npt.tpr\n",
    "!gmx mdrun -deffnm npt -nt 4"
   ]
  },
  {
   "cell_type": "code",
   "execution_count": null,
   "metadata": {},
   "outputs": [],
   "source": [
    "%%bash\n",
    "\n",
    "ELECTRIC_FIELD=1.0\n",
    "cp input/md_iso_E.mdp md_iso_${ELECTRIC_FIELD}.mdp\n",
    "sed -i \"s/ELECTRIC_FIELD/${ELECTRIC_FIELD}/g\" md_iso_${ELECTRIC_FIELD}.mdp"
   ]
  },
  {
   "cell_type": "code",
   "execution_count": null,
   "metadata": {},
   "outputs": [],
   "source": [
    "!gmx grompp -f md_iso_${ELECTRIC_FIELD}.mdp -c npt.gro -o md_iso_${ELECTRIC_FIELD}.tpr\n",
    "!gmx mdrun -deffnm md_iso_${ELECTRIC_FIELD} -nt 4"
   ]
  },
  {
   "cell_type": "code",
   "execution_count": null,
   "metadata": {},
   "outputs": [],
   "source": [
    "import MDAnalysis as mda\n",
    "\n",
    "#electric_fields = [\"0.00\", \"0.01\", \"0.1\", \"1.0\", \"10.0\", \"50.0\"]\n",
    "electric_fields = [\"0.2\", \"0.5\"]\n",
    "\n",
    "for electric_field in electric_fields:\n",
    "\n",
    "    u = mda.Universe(\"data/long/conf.pdb\", \"data/long/md_iso_\" + electric_field + \".xtc\", in_memory=\"True\")\n",
    "    step = 0\n",
    "    order_params = []\n",
    "    times  = []\n",
    "    for ts in u.trajectory:\n",
    "        box = ts.dimensions\n",
    "        cosxi2 = 0.0\n",
    "        ncosxi2 = 0\n",
    "        ends1 = u.select_atoms(\"name N1\")\n",
    "        ends2 = u.select_atoms(\"name C19\")\n",
    "        for i in range(0, len(ends1) - 1):\n",
    "            endi1 = ends1[i].position\n",
    "            endi2 = ends2[i].position\n",
    "            ri = endi2 - endi1\n",
    "            ri[0] = ri[0] - round(ri[0] / box[0]) * box[0]\n",
    "            ri[1] = ri[1] - round(ri[1] / box[1]) * box[1]\n",
    "            ri[2] = ri[2] - round(ri[2] / box[2]) * box[2]\n",
    "            ri_len = (ri[0]*ri[0] + ri[1]*ri[1] + ri[2]*ri[2]) ** 0.5\n",
    "            for j in range(i + 1, len(ends1)):\n",
    "                endj1 = ends1[j].position\n",
    "                endj2 = ends2[j].position\n",
    "                rj = endj2 - endj1\n",
    "                rj[0] = rj[0] - round(rj[0] / box[0]) * box[0]\n",
    "                rj[1] = rj[1] - round(rj[1] / box[1]) * box[1]\n",
    "                rj[2] = rj[2] - round(rj[2] / box[2]) * box[2]\n",
    "                rj_len = (rj[0]*rj[0] + rj[1]*rj[1] + rj[2]*rj[2]) ** 0.5\n",
    "                cosxi = (ri[0]*rj[0] + ri[1]*rj[1] + ri[2]*rj[2]) / (ri_len * rj_len)\n",
    "                cosxi2 += cosxi*cosxi\n",
    "                ncosxi2 += 1\n",
    "        cosxi2 /= ncosxi2\n",
    "        order_param = (3.0*cosxi2 - 1.0)/2.0\n",
    "        order_params.append(order_param)\n",
    "        times.append(step)\n",
    "        step += 1\n",
    "        print(step, order_param)\n",
    "\n",
    "    import matplotlib.pyplot as plt\n",
    "    fig = plt.figure()\n",
    "    plt.plot(times, order_params)\n",
    "    plt.show()\n",
    "    fig.savefig(\"order_parameter_\" + electric_field + \".png\")"
   ]
  },
  {
   "cell_type": "code",
   "execution_count": null,
   "metadata": {},
   "outputs": [],
   "source": []
  }
 ],
 "metadata": {
  "kernelspec": {
   "display_name": "Python 3 (ipykernel)",
   "language": "python",
   "name": "python3"
  },
  "language_info": {
   "codemirror_mode": {
    "name": "ipython",
    "version": 3
   },
   "file_extension": ".py",
   "mimetype": "text/x-python",
   "name": "python",
   "nbconvert_exporter": "python",
   "pygments_lexer": "ipython3",
   "version": "3.10.12"
  }
 },
 "nbformat": 4,
 "nbformat_minor": 2
}
