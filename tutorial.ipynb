{
 "cells": [
  {
   "cell_type": "markdown",
   "metadata": {},
   "source": [
    "# Молекулярная динамика\n",
    "\n",
    "## Молекулярная механика\n",
    "\n",
    "Основная идея молекулярной механики: любую молекулярную систему можно предствить в виде набора классических взаимодействующих частиц (атомов). Задача моделирования сводится к решению задачи N тел.\n",
    "\n",
    "<img src=\"img/myoglobin_licorice2.png\"  width=\"400\">\n",
    "\n",
    "## Силовое поле\n",
    "\n",
    "Потенциальная функция (силовое поле) молекулярной динамики:\n",
    "\n",
    "$$\n",
    "V = V_{bonded} + V_{nb}\n",
    "$$\n",
    "\n",
    "Валентные взаимодействия (количество слагаемых ~ количество атомов):\n",
    "\n",
    "$$\n",
    "\\begin{split}\n",
    "V_{bonded} = &\\sum_{(i,j)\\in bonds}\\frac{k^s_{ij}}{2}(r_{ij}-r_{ij}^0)^2 + \\\\\n",
    "             &\\sum_{(i,j,k)\\in angles}\\frac{k^{\\theta}_{ijk}}{2}(\\theta_{ijk}-\\theta_{ijk}^0)^2 + \\\\\n",
    "             &\\sum_{(i,j,k,l)\\in dihedrals}k^{\\phi}_{ijkl}(1-\\cos(n\\phi_{ijkl} - \\phi_{ijkl}^0)) + \\\\\n",
    "             &\\sum_{(i,j,k,l)\\in impropers}k^{\\psi}_{ijkl}(\\psi_{ijkl}-\\psi_{ijkl}^0)^2\n",
    "\\end{split}\n",
    "$$\n",
    "\n",
    "Невалентные взаимодействия (каждый с каждым):\n",
    "\n",
    "$$\n",
    "V_{nb} = \\sum_{i,j}\\varepsilon_{ij}\\left[\\left(\\frac{\\sigma_{ij}}{r_{ij}}\\right)^{12}-2\\left(\\frac{\\sigma_{ij}}{r_{ij}}\\right)^{6}\\right]\n",
    "$$\n",
    "\n",
    "## Молекулярная динамика\n",
    "\n",
    "Молекулярная динамика развивает идею молекулярной механики следующим образом. Если есть возмоность посчитать энергию системы, то есть возможность посчитать и силы межатомного взаимодействия. Эти силы затем можно подставить в уравнения движения, получив таким образом динамику движения атомов системы.\n",
    "\n",
    "Уравнения движения:\n",
    "\n",
    "$$\n",
    "\\begin{split}\n",
    "m_i\\frac{d\\mathbf{V}_{i}}{dt} &= \\mathbf{f}_{i}\\\\\n",
    "\\frac{d\\mathbf{r}_i}{dt} &= \\mathbf{v}_{i}\n",
    "\\end{split}\n",
    "$$\n",
    "\n",
    ", где:\n",
    "\n",
    "$$\n",
    "\\mathbf{f}_i = \\nabla_i V = \\begin{bmatrix}\\frac{\\partial}{\\partial x_i}\\\\\\frac{\\partial}{\\partial y_i}\\\\\\frac{\\partial}{\\partial z_i}\\end{bmatrix}V\n",
    "$$\n",
    "\n",
    "## Проблемма 1: Много атомов\n",
    "\n",
    "Молекулярные системы обычно насчитывают огромное количество атомов. Например, куб воды нормальной плотности размеров 10х10х10 нм содержит примерно 10<sup>5</sup> атомов. Все атомы взаимодействую друг с другом, для каждого атома необходимо численно интегрировать уравнения движения. Это очень большое количество вычислений. Решается параллелизацией расчета: расчет сил можно производить одновременно.\n",
    "\n",
    "\n",
    "## Проблемма 2: Маленький шаг численного интегрирования\n",
    "\n",
    "Быстрые коллебания ковалентных связей диктуют необходимость использования очень маленького шага по времени ~1 фс (10<sup>-15</sup> с). Для достижения временных интервалов ~1 мс (10<sup>-3</sup> с) требуется огромное количество шагов численного интегрирования. Не решается параллелизацией: невозможно считать следующий шаг, не расчитав настоящий.\n"
   ]
  },
  {
   "cell_type": "markdown",
   "metadata": {},
   "source": [
    "# Пакет GROMACS\n",
    "\n",
    "## Проверка установки и подготовка к работе"
   ]
  },
  {
   "cell_type": "code",
   "execution_count": null,
   "metadata": {},
   "outputs": [],
   "source": [
    "!gmx --version"
   ]
  },
  {
   "cell_type": "markdown",
   "metadata": {},
   "source": [
    "Здесь, '!' означает, что выполнять комманду следует в коммандной строке. Кроме установленной версии программы GROMACS данная комманда должна распечатать информацию о том, как код был скомпилирован (под какую архитектуру, поддерживаются ли графические процессоры и т.д.).\n",
    "\n",
    "Следующая ячейка создает отдельную директорию и переходит в нее. Обратите внимание, что перед командой 'cd' стоит знак '%', а не '!' для того, чтобы остаться в новой папке далее, при выполнении последующих ячеек."
   ]
  },
  {
   "cell_type": "code",
   "execution_count": null,
   "metadata": {},
   "outputs": [],
   "source": [
    "!mkdir sim\n",
    "%cd sim"
   ]
  },
  {
   "cell_type": "markdown",
   "metadata": {},
   "source": [
    "## Постановка задачи\n",
    "\n",
    "В качестве примера, мы рассмотрим поведение молекул 4-Циано-4'-пентилбифенила (4-Cyano-4'-pentylbiphenyl, сокр. 5CB) под действием внешнего электростатического поля. Молекула 5CB примечательна тем, что она может переходить в жидкокристаллическую фазу при температуре 22.5-35 градусов Цельсия. Далее мы подготовим систему к моделированию в пакете GROMACS, проведем моделирование в присутствии внешнего электростатического поля и посмотрим как это поле влияет на упорядоченность молекул. Молекула 5CB выглядит следующим образом: \n",
    "\n",
    "<img src=\"img/5CB-wiki.png\"  width=\"400\">\n",
    "*By Roland Mattern2. - Roland1952, Public Domain, https://commons.wikimedia.org/w/index.php?curid=7965966*\n",
    "\n",
    "## Начальные данные\n",
    "\n",
    "Вернемся к записи функции потенциальной энергии (на примере ковалентных связей):\n",
    "\n",
    "$$\n",
    "V_{bond}=\\sum_{\\color{green}{(i,j)\\in bonds}}\\frac{\\color{red}{k^s_{ij}}}{2}({\\color{blue}{r_{ij}}}-\\color{red}{r_{ij}^0})^2\n",
    "$$\n",
    "\n",
    "Здесь, цветами обозначены величины, необходимые для расчета потенциальной энергии и, как следствие, сил межатомного взаимодействия. Красным цветом обозначены параметры, которые определяются выбором силового поля. Зеленый цвет обозначает связанность системы, так называемую топологию молекулы (молекул). Синий цвет соответствует координатам атомов системы. Эту информацию нужно сообщить программе GROMACS.\n",
    "\n",
    "<img src=\"img/gmx_workflow.png\" width=\"800\">\n",
    "\n",
    "### Выбор силового поля\n",
    "\n",
    "$$\n",
    "V_{bond}=\\sum_{(i,j)\\in bonds}\\frac{\\color{red}{k^s_{ij}}}{2}(r_{ij}-\\color{red}{r_{ij}^0})^2\n",
    "$$\n",
    "\n",
    "Для описания взаимодействий между атомами в молекулярной динамике используется силовое поле. Силовое поле представляет собой набор файлов, в которых перечисленны возможные типы атомов, то как они связаны между собой в ряде молекул, какие параметры ковалентных взаимодействий у этих связей, какие у атомов заряды и т.д. Выбор силового поля является очень важным этапом в молекулярном моделировании. Например, силовые поля разработанные для биологических молекул, зачастую работают корректно только в физиологическом диапазоне температур и давлений.\n",
    "\n",
    "Здесь мы будем использовать модифицированное силовое поле TRaPPE-UA, которое изначально разрабатывалось с целью корректно описывать фазовые состояния молекул. Поле было адаптировано к использованию в пакете GROMACS, но не входит в его стандартную поставку. Для того, чтобы скачать силовое поле [здесь](https://github.com/zhmurov/trappeua/archive/refs/heads/master.zip):"
   ]
  },
  {
   "cell_type": "code",
   "execution_count": null,
   "metadata": {},
   "outputs": [],
   "source": [
    "%%bash\n",
    "\n",
    "wget https://github.com/zhmurov/trappeua/archive/refs/heads/master.zip\n",
    "unzip master.zip\n",
    "rm master.zip\n",
    "mv trappeua-master/trappeua.ff .\n",
    "rm -rf trappeua-master"
   ]
  },
  {
   "cell_type": "markdown",
   "metadata": {},
   "source": [
    "Для того, чтобы GROMACS обнаружил поле и его можно было бы использовать, необходимо чтобы папка с расширением 'ff' находилась в рабочей директории. Поэтому, мы переместили данную папку после распаковки архива. Можно также получить силовое поле напрямую из репозитория:"
   ]
  },
  {
   "cell_type": "code",
   "execution_count": null,
   "metadata": {},
   "outputs": [],
   "source": [
    "#%%bash\n",
    "#\n",
    "#git clone https://github.com/zhmurov/trappeua\n",
    "#mv trappeua/trappeua.ff .\n",
    "#rm -rf trappeua"
   ]
  },
  {
   "cell_type": "markdown",
   "metadata": {},
   "source": [
    "Параметры ковалентных взаимодействий содержаться в файле trappeua.ff/ffbonded.itp :"
   ]
  },
  {
   "cell_type": "code",
   "execution_count": null,
   "metadata": {},
   "outputs": [],
   "source": [
    "!head -n 40 trappeua.ff/ffbonded.itp"
   ]
  },
  {
   "cell_type": "markdown",
   "metadata": {},
   "source": [
    "### Координаты системы\n",
    "\n",
    "$$\n",
    "V_{bond}=\\sum_{(i,j)\\in bonds}\\frac{k^s_{ij}}{2}({\\color{blue}{r_{ij}}}-r_{ij}^0)^2\n",
    "$$\n",
    "\n",
    "Данная версия силового поля уже содержит координаты для молекулы 5CB, которые находятся в папке 'trappeua.ff/liquidcrystals/', файл координат:"
   ]
  },
  {
   "cell_type": "code",
   "execution_count": null,
   "metadata": {},
   "outputs": [],
   "source": [
    "!cat trappeua.ff/liquidcrystals/5CB.pdb"
   ]
  },
  {
   "cell_type": "markdown",
   "metadata": {},
   "source": [
    "Можно также визуализировать структуру при помощи, например, программы VMD или nglview:"
   ]
  },
  {
   "cell_type": "code",
   "execution_count": null,
   "metadata": {},
   "outputs": [],
   "source": [
    "import nglview as ng\n",
    "view = ng.show_structure_file(\"trappeua.ff/liquidcrystals/5CB.pdb\")\n",
    "view"
   ]
  },
  {
   "cell_type": "markdown",
   "metadata": {},
   "source": [
    "Система будет включать 100 молекул внутрии куба с 4х4х4 нм. Важно, чтобы молекулы находились близко друг к другу, но не пересекались - это приведет к очень больщой энергии. С такой задачей хорошо справляется, например программа Packmol. Компиляция программы:"
   ]
  },
  {
   "cell_type": "code",
   "execution_count": null,
   "metadata": {},
   "outputs": [],
   "source": [
    "%%bash\n",
    "\n",
    "git clone https://github.com/m3g/packmol.git\n",
    "cd packmol\n",
    "git checkout v20.3.5\n",
    "./configure\n",
    "make"
   ]
  },
  {
   "cell_type": "markdown",
   "metadata": {},
   "source": [
    "Интерфейсом взаимодействия с программой Packmol являются конфигурационные файлы, которые выглядят следующим образом:"
   ]
  },
  {
   "cell_type": "code",
   "execution_count": null,
   "metadata": {},
   "outputs": [],
   "source": [
    "!cat ../input/packmol.inp"
   ]
  },
  {
   "cell_type": "markdown",
   "metadata": {},
   "source": [
    "В заголовке файла задается толерантность (в ангстреммах) - насколько близко можно распологать молекулы, а также формат и имя файла для сохранения результата. Далее перечисляются компоненты системы, их файлы координат, количество и в каком объеме их требуется размещать. В нашем случае всего один компонент, в количестве 100 молекул в кубической ячейке 40Х40Х40 ангстремм. Для запуска процесса упаковки, выполним комманду:"
   ]
  },
  {
   "cell_type": "code",
   "execution_count": null,
   "metadata": {},
   "outputs": [],
   "source": [
    "!packmol/packmol < ../input/packmol.inp"
   ]
  },
  {
   "cell_type": "markdown",
   "metadata": {},
   "source": [
    "Готовый файл координат можно скопировать из директории с референтными данными:"
   ]
  },
  {
   "cell_type": "code",
   "execution_count": null,
   "metadata": {},
   "outputs": [],
   "source": [
    "#!cp ../data/cong.pdb ."
   ]
  },
  {
   "cell_type": "markdown",
   "metadata": {},
   "source": [
    "В результате получаем координаты:"
   ]
  },
  {
   "cell_type": "code",
   "execution_count": null,
   "metadata": {},
   "outputs": [],
   "source": [
    "!head -n 40 conf.pdb"
   ]
  },
  {
   "cell_type": "markdown",
   "metadata": {},
   "source": [
    "Визуализация:"
   ]
  },
  {
   "cell_type": "code",
   "execution_count": null,
   "metadata": {},
   "outputs": [],
   "source": [
    "import nglview as ng\n",
    "view = ng.show_structure_file(\"conf.pdb\")\n",
    "view"
   ]
  },
  {
   "cell_type": "markdown",
   "metadata": {},
   "source": [
    "<img src=\"img/5cbX100.png\"  width=\"400\">\n",
    "\n",
    "### Топология системы:\n",
    "\n",
    "$$\n",
    "V_{bond}=\\sum_{\\color{green}{(i,j)\\in bonds}}\\frac{k^s_{ij}}{2}(r_{ij}-r_{ij}^0)^2\n",
    "$$\n",
    "\n",
    "Для данной молекулы в силовом поле имеется файл топологии:"
   ]
  },
  {
   "cell_type": "code",
   "execution_count": null,
   "metadata": {},
   "outputs": [],
   "source": [
    "!cat trappeua.ff/liquidcrystals/5CB.itp"
   ]
  },
  {
   "cell_type": "markdown",
   "metadata": {},
   "source": [
    "Для системы из 100 молекул, достаточно включить данный файл директивой include и указать количество молекул:"
   ]
  },
  {
   "cell_type": "code",
   "execution_count": null,
   "metadata": {},
   "outputs": [],
   "source": [
    "!cp ../input/topol.top .\n",
    "!cat topol.top"
   ]
  },
  {
   "cell_type": "markdown",
   "metadata": {},
   "source": [
    "## Подготовка системы\n",
    "\n",
    "<img src=\"img/gmx_workflow.png\" width=\"800\">"
   ]
  },
  {
   "cell_type": "markdown",
   "metadata": {},
   "source": [
    "### Задание размера системы и минимизация энергии:"
   ]
  },
  {
   "cell_type": "code",
   "execution_count": null,
   "metadata": {},
   "outputs": [],
   "source": [
    "!cat ../input/em.mdp"
   ]
  },
  {
   "cell_type": "code",
   "execution_count": null,
   "metadata": {},
   "outputs": [],
   "source": [
    "!gmx editconf -f conf.pdb -o conf.gro -box 4 4 4\n",
    "!gmx grompp -f ../input/em.mdp -c conf.gro -o em.tpr\n",
    "!gmx mdrun -deffnm em -nt 1"
   ]
  },
  {
   "cell_type": "code",
   "execution_count": null,
   "metadata": {},
   "outputs": [],
   "source": [
    "!printf \"Potential\\n0\\n\" | gmx energy -f em.edr -o potential.xvg -xvg none"
   ]
  },
  {
   "cell_type": "code",
   "execution_count": null,
   "metadata": {},
   "outputs": [],
   "source": [
    "import pandas as pd\n",
    "df = pd.read_csv('potential.xvg', sep='\\s+', header=None, names=['step','energy'])\n",
    "df.plot('step')"
   ]
  },
  {
   "cell_type": "markdown",
   "metadata": {},
   "source": [
    "### Уравновешивание системы\n",
    "\n",
    "Уравновешивание системы при постоянном объеме:"
   ]
  },
  {
   "cell_type": "code",
   "execution_count": null,
   "metadata": {},
   "outputs": [],
   "source": [
    "!cat ../input/nvt.mdp"
   ]
  },
  {
   "cell_type": "code",
   "execution_count": null,
   "metadata": {},
   "outputs": [],
   "source": [
    "!gmx grompp -f ../input/nvt.mdp -c em.gro -o nvt.tpr\n",
    "!gmx mdrun -deffnm nvt -nt 1"
   ]
  },
  {
   "cell_type": "markdown",
   "metadata": {},
   "source": [
    "Если нет возможности провесли расчет, можно скопировать референтные значения:"
   ]
  },
  {
   "cell_type": "code",
   "execution_count": null,
   "metadata": {},
   "outputs": [],
   "source": [
    "#!cp data/nvt* ."
   ]
  },
  {
   "cell_type": "code",
   "execution_count": null,
   "metadata": {},
   "outputs": [],
   "source": [
    "!echo \"Temperature\" | gmx energy -f nvt.edr -o temperature.xvg -xvg none"
   ]
  },
  {
   "cell_type": "code",
   "execution_count": null,
   "metadata": {},
   "outputs": [],
   "source": [
    "!cat temperature.xvg\n",
    "import pandas as pd\n",
    "df = pd.read_csv('temperature.xvg', sep='\\s+', header=None, names=['time','temperature'])\n",
    "df.plot('time')"
   ]
  },
  {
   "cell_type": "markdown",
   "metadata": {},
   "source": [
    "Уравновешивание системы при постоянном давлении:"
   ]
  },
  {
   "cell_type": "code",
   "execution_count": null,
   "metadata": {},
   "outputs": [],
   "source": [
    "!cat ../input/npt.mdp"
   ]
  },
  {
   "cell_type": "code",
   "execution_count": null,
   "metadata": {},
   "outputs": [],
   "source": [
    "!gmx grompp -f ../input/npt.mdp -c nvt.gro -o npt.tpr\n",
    "!gmx mdrun -deffnm npt -nt 1"
   ]
  },
  {
   "cell_type": "markdown",
   "metadata": {},
   "source": [
    "Либо скопировать референтные значения:"
   ]
  },
  {
   "cell_type": "code",
   "execution_count": null,
   "metadata": {},
   "outputs": [],
   "source": [
    "!cp data/npt* ."
   ]
  },
  {
   "cell_type": "code",
   "execution_count": null,
   "metadata": {},
   "outputs": [],
   "source": [
    "!echo \"Potential\" | gmx energy -f npt.edr -o epot.xvg -xvg none"
   ]
  },
  {
   "cell_type": "code",
   "execution_count": null,
   "metadata": {},
   "outputs": [],
   "source": [
    "import pandas as pd\n",
    "df = pd.read_csv('epot.xvg', sep='\\s+', header=None, names=['time','Potential energy'])\n",
    "df.plot('time')"
   ]
  },
  {
   "cell_type": "markdown",
   "metadata": {},
   "source": [
    "## Моделирование"
   ]
  },
  {
   "cell_type": "code",
   "execution_count": null,
   "metadata": {},
   "outputs": [],
   "source": [
    "!cat ../input/md_iso_E.mdp"
   ]
  },
  {
   "cell_type": "code",
   "execution_count": null,
   "metadata": {},
   "outputs": [],
   "source": [
    "%%bash\n",
    "\n",
    "ELECTRIC_FIELD=1.0\n",
    "cp ../input/md_iso_E.mdp md_iso_${ELECTRIC_FIELD}.mdp\n",
    "sed -i \"s/ELECTRIC_FIELD/${ELECTRIC_FIELD}/g\" md_iso_${ELECTRIC_FIELD}.mdp\n",
    "cat md_iso_${ELECTRIC_FIELD}.mdp"
   ]
  },
  {
   "cell_type": "code",
   "execution_count": null,
   "metadata": {},
   "outputs": [],
   "source": [
    "!gmx grompp -f md_iso_${ELECTRIC_FIELD}.mdp -c npt.gro -o md_iso_${ELECTRIC_FIELD}.tpr\n",
    "#!gmx mdrun -deffnm md_iso_${ELECTRIC_FIELD} -nt 4"
   ]
  },
  {
   "cell_type": "markdown",
   "metadata": {},
   "source": [
    "Следующая ячейка скопирует референтные данные для набора электрических полей в диапазоне от 0 до 50 В/нм:"
   ]
  },
  {
   "cell_type": "code",
   "execution_count": null,
   "metadata": {},
   "outputs": [],
   "source": [
    "!cp ../data/md_iso_* ."
   ]
  },
  {
   "cell_type": "code",
   "execution_count": null,
   "metadata": {},
   "outputs": [],
   "source": [
    "import nglview as ng\n",
    "view = ng.show_structure_file(\"md_iso_1.0.gro\")\n",
    "view"
   ]
  },
  {
   "cell_type": "markdown",
   "metadata": {},
   "source": [
    "# Немного анализа результатов\n",
    "\n",
    "Для оценки взаимной ориентации молекул, мы будем использовать параметр порядка $P_2$, который вычисляется по формуле:\n",
    "\n",
    "$$\n",
    "S=\\langle P_2(cos\\chi)\\rangle=\\frac{3\\langle cos^2\\chi\\rangle - 1}{2}\n",
    "$$\n",
    "\n",
    "Здесь, $\\chi$ - угол между двумя молекулами 5CB. Код, который расчитывает параметр:"
   ]
  },
  {
   "cell_type": "code",
   "execution_count": 63,
   "metadata": {},
   "outputs": [
    {
     "name": "stderr",
     "output_type": "stream",
     "text": [
      "/home/zhmurov/.local/lib/python3.10/site-packages/MDAnalysis/topology/PDBParser.py:328: UserWarning: Element information is missing, elements attribute will not be populated. If needed these can be guessed using MDAnalysis.topology.guessers.\n",
      "  warnings.warn(\"Element information is missing, elements attribute \"\n"
     ]
    },
    {
     "name": "stdout",
     "output_type": "stream",
     "text": [
      "100.0 0.097902389814714\n",
      "200.0 0.04532512223703311\n",
      "300.0 0.03854249368216767\n",
      "400.0 0.09421234251396571\n",
      "500.0 0.1681306455205933\n",
      "600.0 0.2824172428863083\n",
      "700.0 0.3262500297775561\n",
      "800.0 0.4339332378106251\n",
      "900.0 0.47286070618975684\n",
      "1000.0 0.44492459789899663\n",
      "1100.0 0.4283009815277178\n",
      "1200.0 0.45377654214867436\n",
      "1300.0 0.530650643426642\n",
      "1400.0 0.5616467436098938\n",
      "1500.0 0.5456888125505122\n",
      "1600.0 0.48654244101464084\n",
      "1700.0 0.4372740081068316\n",
      "1800.0 0.49790534007837683\n",
      "1900.0 0.535387393161264\n",
      "2000.0 0.5066109747307235\n",
      "2100.0 0.4610983153776065\n",
      "2200.0 0.4794127100061276\n",
      "2300.0 0.4029621651581796\n",
      "2400.0 0.556284085939112\n",
      "2500.0 0.6030638027315112\n",
      "2600.0 0.6119234401593827\n",
      "2700.0 0.6242727424631485\n",
      "2800.0 0.5366566609269672\n",
      "2900.0 0.5400731075860341\n",
      "3000.0 0.5339535963079565\n",
      "3100.0 0.4971447488602364\n",
      "3200.0 0.5198965606861619\n",
      "3300.0 0.5211843865998842\n",
      "3400.0 0.5576676703675107\n",
      "3500.0 0.5692158397731639\n",
      "3600.0 0.5572903139103731\n",
      "3700.0 0.5772182605751395\n",
      "3800.0 0.5696432019330828\n",
      "3900.0 0.5917086639007614\n",
      "4000.0 0.5573125014316522\n"
     ]
    },
    {
     "data": {
      "image/png": "[encoded data removed]",
      "text/plain": [
       "<Figure size 640x480 with 1 Axes>"
      ]
     },
     "metadata": {},
     "output_type": "display_data"
    }
   ],
   "source": [
    "import MDAnalysis as mda\n",
    "\n",
    "#electric_fields = [\"0.00\", \"0.01\", \"0.1\", \"0.2\", \"0.5\", \"1.0\", \"10.0\", \"50.0\"]\n",
    "electric_fields = [\"1.0\"]\n",
    "\n",
    "for electric_field in electric_fields:\n",
    "\n",
    "    u = mda.Universe(\"conf.pdb\", \"md_iso_\" + electric_field + \".xtc\", in_memory=\"True\")\n",
    "    order_params = []\n",
    "    times  = []\n",
    "    file = open(\"order_parameter_\" + electric_field + \".dat\", \"w\")\n",
    "    filter = u.trajectory[10::10]\n",
    "    for ts in filter:\n",
    "        box = ts.dimensions\n",
    "        cosxi2 = 0.0\n",
    "        ncosxi2 = 0\n",
    "        ends1 = u.select_atoms(\"name N1\")\n",
    "        ends2 = u.select_atoms(\"name C19\")\n",
    "        for i in range(0, len(ends1) - 1):\n",
    "            endi1 = ends1[i].position\n",
    "            endi2 = ends2[i].position\n",
    "            ri = endi2 - endi1\n",
    "            ri[0] = ri[0] - round(ri[0] / box[0]) * box[0]\n",
    "            ri[1] = ri[1] - round(ri[1] / box[1]) * box[1]\n",
    "            ri[2] = ri[2] - round(ri[2] / box[2]) * box[2]\n",
    "            ri_len = (ri[0]*ri[0] + ri[1]*ri[1] + ri[2]*ri[2]) ** 0.5\n",
    "            for j in range(i + 1, len(ends1)):\n",
    "                endj1 = ends1[j].position\n",
    "                endj2 = ends2[j].position\n",
    "                rj = endj2 - endj1\n",
    "                rj[0] = rj[0] - round(rj[0] / box[0]) * box[0]\n",
    "                rj[1] = rj[1] - round(rj[1] / box[1]) * box[1]\n",
    "                rj[2] = rj[2] - round(rj[2] / box[2]) * box[2]\n",
    "                rj_len = (rj[0]*rj[0] + rj[1]*rj[1] + rj[2]*rj[2]) ** 0.5\n",
    "                cosxi = (ri[0]*rj[0] + ri[1]*rj[1] + ri[2]*rj[2]) / (ri_len * rj_len)\n",
    "                cosxi2 += cosxi*cosxi\n",
    "                ncosxi2 += 1\n",
    "        cosxi2 /= ncosxi2\n",
    "        order_param = (3.0*cosxi2 - 1.0)/2.0\n",
    "        order_params.append(order_param)\n",
    "        time = ts.time\n",
    "        times.append(time)\n",
    "        print(time, order_param)\n",
    "        file.write(str(time) + \" \" + str(order_param) + \"\\n\")\n",
    "    \n",
    "    import matplotlib.pyplot as plt\n",
    "    fig = plt.figure()\n",
    "    plt.plot(times, order_params)\n",
    "    plt.show()\n",
    "    fig.savefig(\"order_parameter_\" + electric_field + \".png\")"
   ]
  }
 ],
 "metadata": {
  "kernelspec": {
   "display_name": "Python 3 (ipykernel)",
   "language": "python",
   "name": "python3"
  },
  "language_info": {
   "codemirror_mode": {
    "name": "ipython",
    "version": 3
   },
   "file_extension": ".py",
   "mimetype": "text/x-python",
   "name": "python",
   "nbconvert_exporter": "python",
   "pygments_lexer": "ipython3",
   "version": "3.10.12"
  }
 },
 "nbformat": 4,
 "nbformat_minor": 2
}
