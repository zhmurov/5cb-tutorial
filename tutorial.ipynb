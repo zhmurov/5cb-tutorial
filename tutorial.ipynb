{
 "cells": [
  {
   "cell_type": "markdown",
   "metadata": {},
   "source": [
    "# Молекулярная динамика\n",
    "\n",
    "Экспериментальные исследования не позволяют проследить за динамикой молекулярной системы на атомарном уровне. С этой точки зрения моделирование выглядит многообещающе.\n",
    "\n",
    "![]() <img src=\"img/myoglobin_licorice2.png\"  width=\"400\">\n",
    "\n",
    "Гипотезы:\n",
    "\n",
    "1. Молекулярную систему можно представить в виде набора взаимодействующих центров, а их движение описать законами классической механики.\n",
    "\n",
    "2. Гипотеза аддитивности: общая энергия взаимодействия — сумма отдельных межчастичных взаимодействий.\n",
    "\n",
    "3. Гипотеза переносимости: параметризация взаимодействий может опираться на ограниченный набор параметров.\n",
    "\n",
    "\n",
    "## Силовое поле\n",
    "\n",
    "Потенциальная функция (силовое поле) молекулярной динамики:\n",
    "\n",
    "$$\n",
    "V = V_{bonded} + V_{nb}\n",
    "$$\n",
    "\n",
    "Валентные взаимодействия (количество слагаемых ~ количество атомов):\n",
    "\n",
    "$$\n",
    "\\begin{split}\n",
    "V_{bonded} = &\\sum_{(i,j)\\in bonds}\\frac{k^s_{ij}}{2}(r_{ij}-r_{ij}^0)^2 + \\\\\n",
    "             &\\sum_{(i,j,k)\\in angles}\\frac{k^{\\theta}_{ijk}}{2}(\\theta_{ijk}-\\theta_{ijk}^0)^2 + \\\\\n",
    "             &\\sum_{(i,j,k,l)\\in dihedrals}k^{\\phi}_{ijkl}(1-\\cos(n\\phi_{ijkl} - \\phi_{ijkl}^0)) + \\\\\n",
    "             &\\sum_{(i,j,k,l)\\in impropers}k^{\\psi}_{ijkl}(\\psi_{ijkl}-\\psi_{ijkl}^0)^2\n",
    "\\end{split}\n",
    "$$\n",
    "\n",
    "Невалентные взаимодействия (каждый с каждым):\n",
    "\n",
    "$$\n",
    "V_{nb} = \\sum_{i,j}\\varepsilon_{ij}\\left[\\left(\\frac{\\sigma_{ij}}{r_{ij}}\\right)^{12}-2\\left(\\frac{\\sigma_{ij}}{r_{ij}}\\right)^{6}\\right]\n",
    "$$\n",
    "\n",
    "Уравнения движения:\n",
    "\n",
    "$$\n",
    "\\begin{split}\n",
    "m_i\\frac{d\\mathbf{V}_{i}}{dt} &= \\mathbf{f}_{i}\\\\\n",
    "\\frac{d\\mathbf{r}_i}{dt} &= \\mathbf{v}_{i}\n",
    "\\end{split}\n",
    "$$\n",
    "\n",
    ", где:\n",
    "\n",
    "$$\n",
    "\\mathbf{f}_i = \\nabla_i V = \\begin{bmatrix}\\frac{\\partial}{\\partial x_i}\\\\\\frac{\\partial}{\\partial y_i}\\\\\\frac{\\partial}{\\partial z_i}\\end{bmatrix}V\n",
    "$$\n",
    "\n"
   ]
  },
  {
   "cell_type": "code",
   "execution_count": 1,
   "metadata": {},
   "outputs": [
    {
     "name": "stdout",
     "output_type": "stream",
     "text": [
      "                         :-) GROMACS - gmx, 2022.5 (-:\r\n",
      "\r\n",
      "Executable:   /usr/local/gromacs/bin/gmx\r\n",
      "Data prefix:  /usr/local/gromacs\r\n",
      "Working dir:  /home/zhmurov/git/artemzhmurov/5cb-tutorial\r\n",
      "Command line:\r\n",
      "  gmx --version\r\n",
      "\r\n",
      "GROMACS version:    2022.5\r\n",
      "Precision:          mixed\r\n",
      "Memory model:       64 bit\r\n",
      "MPI library:        thread_mpi\r\n",
      "OpenMP support:     enabled (GMX_OPENMP_MAX_THREADS = 128)\r\n",
      "GPU support:        disabled\r\n",
      "SIMD instructions:  AVX2_256\r\n",
      "CPU FFT library:    fftw-3.3.8-sse2-avx\r\n",
      "GPU FFT library:    none\r\n",
      "RDTSCP usage:       enabled\r\n",
      "TNG support:        enabled\r\n",
      "Hwloc support:      disabled\r\n",
      "Tracing support:    disabled\r\n",
      "C compiler:         /usr/bin/cc GNU 11.2.0\r\n",
      "C compiler flags:   -mavx2 -mfma -Wno-missing-field-initializers -fexcess-precision=fast -funroll-all-loops -O3 -DNDEBUG\r\n",
      "C++ compiler:       /usr/bin/c++ GNU 11.2.0\r\n",
      "C++ compiler flags: -mavx2 -mfma -Wno-missing-field-initializers -fexcess-precision=fast -funroll-all-loops -fopenmp -O3 -DNDEBUG\r\n",
      "\r\n"
     ]
    }
   ],
   "source": [
    "!gmx --version"
   ]
  },
  {
   "cell_type": "markdown",
   "metadata": {},
   "source": [
    "Следующая ячейка создает отдельную директорию и переходит в нее. Обратите внимание, что перед командой 'cd' стоит знак '%', а не '!' для того, чтобы остаться в новой папке далее, при выполнении последующих ячеек."
   ]
  },
  {
   "cell_type": "code",
   "execution_count": 2,
   "metadata": {},
   "outputs": [
    {
     "name": "stdout",
     "output_type": "stream",
     "text": [
      "/home/zhmurov/git/artemzhmurov/5cb-tutorial/sim\n"
     ]
    }
   ],
   "source": [
    "!mkdir sim\n",
    "%cd sim"
   ]
  },
  {
   "cell_type": "markdown",
   "metadata": {},
   "source": [
    "## Создание файлов координат и топологии\n",
    "\n",
    "Для описания взаимодействий между атомами в молекулярной динамике используется силовое поле. Силовое поле представляет собой набор файлов, в которых перечисленны возможные типы атомов, то как они связаны между собой в ряде молекул, какие параметры ковалентных взаимодействий у этих связей, какие у атомов заряды и т.д. Выбор силового поля является очень важным этапом в молекулярном моделировании. Например, силовые поля разработанные для биологических молекул, зачастую работают корректно только в физиологическом диапазоне температур и давлений.\n",
    "\n",
    "Здесь мы будем использовать модифицированное силовое поле TRaPPE-UA, которое изначально разрабатывалось с целью корректно описывать фазовые состояния молекул. Поле было адаптировано к использованию в пакете GROMACS, но не входит в его стандартную поставку. Для того, чтобы скачать силовое поле [здесь](https://github.com/zhmurov/trappeua/archive/refs/heads/master.zip):"
   ]
  },
  {
   "cell_type": "code",
   "execution_count": 3,
   "metadata": {},
   "outputs": [
    {
     "name": "stderr",
     "output_type": "stream",
     "text": [
      "--2023-11-20 14:17:35--  https://github.com/zhmurov/trappeua/archive/refs/heads/master.zip\n",
      "Resolving github.com (github.com)... 140.82.121.4\n",
      "Connecting to github.com (github.com)|140.82.121.4|:443... connected.\n",
      "HTTP request sent, awaiting response... 302 Found\n",
      "Location: https://codeload.github.com/zhmurov/trappeua/zip/refs/heads/master [following]\n",
      "--2023-11-20 14:17:36--  https://codeload.github.com/zhmurov/trappeua/zip/refs/heads/master\n",
      "Resolving codeload.github.com (codeload.github.com)... 140.82.121.9\n",
      "Connecting to codeload.github.com (codeload.github.com)|140.82.121.9|:443... connected.\n",
      "HTTP request sent, awaiting response... 200 OK\n",
      "Length: unspecified [application/zip]\n",
      "Saving to: ‘master.zip’\n",
      "\n",
      "     0K .......... .......... .......... .......... ..........  249K\n",
      "    50K .......... .......... .......... .......... ..........  562K\n",
      "   100K .......... .......... .......... .......... .......... 4.50M\n",
      "   150K .......... .......... .......... .......... ..........  562K\n",
      "   200K .......... .......... .......... .......... .......... 3.57M\n",
      "   250K .......... .......... .......... .......... .......... 4.07M\n",
      "   300K .......... .......... .......... .......... ......     6.35M=0.4s\n",
      "\n",
      "2023-11-20 14:17:37 (820 KB/s) - ‘master.zip’ saved [354873]\n",
      "\n"
     ]
    },
    {
     "name": "stdout",
     "output_type": "stream",
     "text": [
      "Archive:  master.zip\n",
      "84925e34f619e4a5f8e92219d12655a0af1dd413\n",
      "   creating: trappeua-master/\n",
      "  inflating: trappeua-master/README.md  \n",
      "  inflating: trappeua-master/ethanol.gro  \n",
      "  inflating: trappeua-master/tip4p.gro  \n",
      "   creating: trappeua-master/trappeua.ff/\n",
      "  inflating: trappeua-master/trappeua.ff/alcohols.rtp  \n",
      "  inflating: trappeua-master/trappeua.ff/alkanes.rtp  \n",
      "  inflating: trappeua-master/trappeua.ff/aromatic.rtp  \n",
      "  inflating: trappeua-master/trappeua.ff/atomtypes.atp  \n",
      "  inflating: trappeua-master/trappeua.ff/ethanol.itp  \n",
      "  inflating: trappeua-master/trappeua.ff/ffbonded.itp  \n",
      "  inflating: trappeua-master/trappeua.ff/ffnonbonded.itp  \n",
      "  inflating: trappeua-master/trappeua.ff/forcefield.doc  \n",
      "  inflating: trappeua-master/trappeua.ff/forcefield.itp  \n",
      "   creating: trappeua-master/trappeua.ff/hydrocarbons/\n",
      "  inflating: trappeua-master/trappeua.ff/hydrocarbons/C100H202.gro  \n",
      "  inflating: trappeua-master/trappeua.ff/hydrocarbons/C100H202.itp  \n",
      "  inflating: trappeua-master/trappeua.ff/hydrocarbons/C100H202.pdb  \n",
      "  inflating: trappeua-master/trappeua.ff/hydrocarbons/C10H22.gro  \n",
      "  inflating: trappeua-master/trappeua.ff/hydrocarbons/C10H22.itp  \n",
      "  inflating: trappeua-master/trappeua.ff/hydrocarbons/C10H22.pdb  \n",
      "  inflating: trappeua-master/trappeua.ff/hydrocarbons/C11H24.gro  \n",
      "  inflating: trappeua-master/trappeua.ff/hydrocarbons/C11H24.itp  \n",
      "  inflating: trappeua-master/trappeua.ff/hydrocarbons/C11H24.pdb  \n",
      "  inflating: trappeua-master/trappeua.ff/hydrocarbons/C12H26.gro  \n",
      "  inflating: trappeua-master/trappeua.ff/hydrocarbons/C12H26.itp  \n",
      "  inflating: trappeua-master/trappeua.ff/hydrocarbons/C12H26.pdb  \n",
      "  inflating: trappeua-master/trappeua.ff/hydrocarbons/C13H28.gro  \n",
      "  inflating: trappeua-master/trappeua.ff/hydrocarbons/C13H28.itp  \n",
      "  inflating: trappeua-master/trappeua.ff/hydrocarbons/C13H28.pdb  \n",
      "  inflating: trappeua-master/trappeua.ff/hydrocarbons/C14H30.gro  \n",
      "  inflating: trappeua-master/trappeua.ff/hydrocarbons/C14H30.itp  \n",
      "  inflating: trappeua-master/trappeua.ff/hydrocarbons/C14H30.pdb  \n",
      "  inflating: trappeua-master/trappeua.ff/hydrocarbons/C15H32.gro  \n",
      "  inflating: trappeua-master/trappeua.ff/hydrocarbons/C15H32.itp  \n",
      "  inflating: trappeua-master/trappeua.ff/hydrocarbons/C15H32.pdb  \n",
      "  inflating: trappeua-master/trappeua.ff/hydrocarbons/C16H34.gro  \n",
      "  inflating: trappeua-master/trappeua.ff/hydrocarbons/C16H34.itp  \n",
      "  inflating: trappeua-master/trappeua.ff/hydrocarbons/C16H34.pdb  \n",
      "  inflating: trappeua-master/trappeua.ff/hydrocarbons/C17H36.gro  \n",
      "  inflating: trappeua-master/trappeua.ff/hydrocarbons/C17H36.itp  \n",
      "  inflating: trappeua-master/trappeua.ff/hydrocarbons/C17H36.pdb  \n",
      "  inflating: trappeua-master/trappeua.ff/hydrocarbons/C18H38.gro  \n",
      "  inflating: trappeua-master/trappeua.ff/hydrocarbons/C18H38.itp  \n",
      "  inflating: trappeua-master/trappeua.ff/hydrocarbons/C18H38.pdb  \n",
      "  inflating: trappeua-master/trappeua.ff/hydrocarbons/C19H40.gro  \n",
      "  inflating: trappeua-master/trappeua.ff/hydrocarbons/C19H40.itp  \n",
      "  inflating: trappeua-master/trappeua.ff/hydrocarbons/C19H40.pdb  \n",
      "  inflating: trappeua-master/trappeua.ff/hydrocarbons/C1H4.gro  \n",
      "  inflating: trappeua-master/trappeua.ff/hydrocarbons/C1H4.itp  \n",
      "  inflating: trappeua-master/trappeua.ff/hydrocarbons/C1H4.pdb  \n",
      "  inflating: trappeua-master/trappeua.ff/hydrocarbons/C20H42.gro  \n",
      "  inflating: trappeua-master/trappeua.ff/hydrocarbons/C20H42.itp  \n",
      "  inflating: trappeua-master/trappeua.ff/hydrocarbons/C20H42.pdb  \n",
      "  inflating: trappeua-master/trappeua.ff/hydrocarbons/C21H44.gro  \n",
      "  inflating: trappeua-master/trappeua.ff/hydrocarbons/C21H44.itp  \n",
      "  inflating: trappeua-master/trappeua.ff/hydrocarbons/C21H44.pdb  \n",
      "  inflating: trappeua-master/trappeua.ff/hydrocarbons/C22H46.gro  \n",
      "  inflating: trappeua-master/trappeua.ff/hydrocarbons/C22H46.itp  \n",
      "  inflating: trappeua-master/trappeua.ff/hydrocarbons/C22H46.pdb  \n",
      "  inflating: trappeua-master/trappeua.ff/hydrocarbons/C23H48.gro  \n",
      "  inflating: trappeua-master/trappeua.ff/hydrocarbons/C23H48.itp  \n",
      "  inflating: trappeua-master/trappeua.ff/hydrocarbons/C23H48.pdb  \n",
      "  inflating: trappeua-master/trappeua.ff/hydrocarbons/C24H50.gro  \n",
      "  inflating: trappeua-master/trappeua.ff/hydrocarbons/C24H50.itp  \n",
      "  inflating: trappeua-master/trappeua.ff/hydrocarbons/C24H50.pdb  \n",
      "  inflating: trappeua-master/trappeua.ff/hydrocarbons/C25H52.gro  \n",
      "  inflating: trappeua-master/trappeua.ff/hydrocarbons/C25H52.itp  \n",
      "  inflating: trappeua-master/trappeua.ff/hydrocarbons/C25H52.pdb  \n",
      "  inflating: trappeua-master/trappeua.ff/hydrocarbons/C26H54.gro  \n",
      "  inflating: trappeua-master/trappeua.ff/hydrocarbons/C26H54.itp  \n",
      "  inflating: trappeua-master/trappeua.ff/hydrocarbons/C26H54.pdb  \n",
      "  inflating: trappeua-master/trappeua.ff/hydrocarbons/C27H56.gro  \n",
      "  inflating: trappeua-master/trappeua.ff/hydrocarbons/C27H56.itp  \n",
      "  inflating: trappeua-master/trappeua.ff/hydrocarbons/C27H56.pdb  \n",
      "  inflating: trappeua-master/trappeua.ff/hydrocarbons/C28H58.gro  \n",
      "  inflating: trappeua-master/trappeua.ff/hydrocarbons/C28H58.itp  \n",
      "  inflating: trappeua-master/trappeua.ff/hydrocarbons/C28H58.pdb  \n",
      "  inflating: trappeua-master/trappeua.ff/hydrocarbons/C29H60.gro  \n",
      "  inflating: trappeua-master/trappeua.ff/hydrocarbons/C29H60.itp  \n",
      "  inflating: trappeua-master/trappeua.ff/hydrocarbons/C29H60.pdb  \n",
      "  inflating: trappeua-master/trappeua.ff/hydrocarbons/C2H6.gro  \n",
      "  inflating: trappeua-master/trappeua.ff/hydrocarbons/C2H6.itp  \n",
      "  inflating: trappeua-master/trappeua.ff/hydrocarbons/C2H6.pdb  \n",
      "  inflating: trappeua-master/trappeua.ff/hydrocarbons/C30H62.gro  \n",
      "  inflating: trappeua-master/trappeua.ff/hydrocarbons/C30H62.itp  \n",
      "  inflating: trappeua-master/trappeua.ff/hydrocarbons/C30H62.pdb  \n",
      "  inflating: trappeua-master/trappeua.ff/hydrocarbons/C31H64.gro  \n",
      "  inflating: trappeua-master/trappeua.ff/hydrocarbons/C31H64.itp  \n",
      "  inflating: trappeua-master/trappeua.ff/hydrocarbons/C31H64.pdb  \n",
      "  inflating: trappeua-master/trappeua.ff/hydrocarbons/C32H66.gro  \n",
      "  inflating: trappeua-master/trappeua.ff/hydrocarbons/C32H66.itp  \n",
      "  inflating: trappeua-master/trappeua.ff/hydrocarbons/C32H66.pdb  \n",
      "  inflating: trappeua-master/trappeua.ff/hydrocarbons/C33H68.gro  \n",
      "  inflating: trappeua-master/trappeua.ff/hydrocarbons/C33H68.itp  \n",
      "  inflating: trappeua-master/trappeua.ff/hydrocarbons/C33H68.pdb  \n",
      "  inflating: trappeua-master/trappeua.ff/hydrocarbons/C34H70.gro  \n",
      "  inflating: trappeua-master/trappeua.ff/hydrocarbons/C34H70.itp  \n",
      "  inflating: trappeua-master/trappeua.ff/hydrocarbons/C34H70.pdb  \n",
      "  inflating: trappeua-master/trappeua.ff/hydrocarbons/C35H72.gro  \n",
      "  inflating: trappeua-master/trappeua.ff/hydrocarbons/C35H72.itp  \n",
      "  inflating: trappeua-master/trappeua.ff/hydrocarbons/C35H72.pdb  \n",
      "  inflating: trappeua-master/trappeua.ff/hydrocarbons/C36H74.gro  \n",
      "  inflating: trappeua-master/trappeua.ff/hydrocarbons/C36H74.itp  \n",
      "  inflating: trappeua-master/trappeua.ff/hydrocarbons/C36H74.pdb  \n",
      "  inflating: trappeua-master/trappeua.ff/hydrocarbons/C37H76.gro  \n",
      "  inflating: trappeua-master/trappeua.ff/hydrocarbons/C37H76.itp  \n",
      "  inflating: trappeua-master/trappeua.ff/hydrocarbons/C37H76.pdb  \n",
      "  inflating: trappeua-master/trappeua.ff/hydrocarbons/C38H78.gro  \n",
      "  inflating: trappeua-master/trappeua.ff/hydrocarbons/C38H78.itp  \n",
      "  inflating: trappeua-master/trappeua.ff/hydrocarbons/C38H78.pdb  \n",
      "  inflating: trappeua-master/trappeua.ff/hydrocarbons/C39H80.gro  \n",
      "  inflating: trappeua-master/trappeua.ff/hydrocarbons/C39H80.itp  \n",
      "  inflating: trappeua-master/trappeua.ff/hydrocarbons/C39H80.pdb  \n",
      "  inflating: trappeua-master/trappeua.ff/hydrocarbons/C3H8.gro  \n",
      "  inflating: trappeua-master/trappeua.ff/hydrocarbons/C3H8.itp  \n",
      "  inflating: trappeua-master/trappeua.ff/hydrocarbons/C3H8.pdb  \n",
      "  inflating: trappeua-master/trappeua.ff/hydrocarbons/C40H82.gro  \n",
      "  inflating: trappeua-master/trappeua.ff/hydrocarbons/C40H82.itp  \n",
      "  inflating: trappeua-master/trappeua.ff/hydrocarbons/C40H82.pdb  \n",
      "  inflating: trappeua-master/trappeua.ff/hydrocarbons/C41H84.gro  \n",
      "  inflating: trappeua-master/trappeua.ff/hydrocarbons/C41H84.itp  \n",
      "  inflating: trappeua-master/trappeua.ff/hydrocarbons/C41H84.pdb  \n",
      "  inflating: trappeua-master/trappeua.ff/hydrocarbons/C42H86.gro  \n",
      "  inflating: trappeua-master/trappeua.ff/hydrocarbons/C42H86.itp  \n",
      "  inflating: trappeua-master/trappeua.ff/hydrocarbons/C42H86.pdb  \n"
     ]
    },
    {
     "name": "stdout",
     "output_type": "stream",
     "text": [
      "  inflating: trappeua-master/trappeua.ff/hydrocarbons/C43H88.gro  \n",
      "  inflating: trappeua-master/trappeua.ff/hydrocarbons/C43H88.itp  \n",
      "  inflating: trappeua-master/trappeua.ff/hydrocarbons/C43H88.pdb  \n",
      "  inflating: trappeua-master/trappeua.ff/hydrocarbons/C44H90.gro  \n",
      "  inflating: trappeua-master/trappeua.ff/hydrocarbons/C44H90.itp  \n",
      "  inflating: trappeua-master/trappeua.ff/hydrocarbons/C44H90.pdb  \n",
      "  inflating: trappeua-master/trappeua.ff/hydrocarbons/C45H92.gro  \n",
      "  inflating: trappeua-master/trappeua.ff/hydrocarbons/C45H92.itp  \n",
      "  inflating: trappeua-master/trappeua.ff/hydrocarbons/C45H92.pdb  \n",
      "  inflating: trappeua-master/trappeua.ff/hydrocarbons/C46H94.gro  \n",
      "  inflating: trappeua-master/trappeua.ff/hydrocarbons/C46H94.itp  \n",
      "  inflating: trappeua-master/trappeua.ff/hydrocarbons/C46H94.pdb  \n",
      "  inflating: trappeua-master/trappeua.ff/hydrocarbons/C47H96.gro  \n",
      "  inflating: trappeua-master/trappeua.ff/hydrocarbons/C47H96.itp  \n",
      "  inflating: trappeua-master/trappeua.ff/hydrocarbons/C47H96.pdb  \n",
      "  inflating: trappeua-master/trappeua.ff/hydrocarbons/C48H98.gro  \n",
      "  inflating: trappeua-master/trappeua.ff/hydrocarbons/C48H98.itp  \n",
      "  inflating: trappeua-master/trappeua.ff/hydrocarbons/C48H98.pdb  \n",
      "  inflating: trappeua-master/trappeua.ff/hydrocarbons/C49H100.gro  \n",
      "  inflating: trappeua-master/trappeua.ff/hydrocarbons/C49H100.itp  \n",
      "  inflating: trappeua-master/trappeua.ff/hydrocarbons/C49H100.pdb  \n",
      "  inflating: trappeua-master/trappeua.ff/hydrocarbons/C4H10.gro  \n",
      "  inflating: trappeua-master/trappeua.ff/hydrocarbons/C4H10.itp  \n",
      "  inflating: trappeua-master/trappeua.ff/hydrocarbons/C4H10.pdb  \n",
      "  inflating: trappeua-master/trappeua.ff/hydrocarbons/C4H10_ISO.gro  \n",
      "  inflating: trappeua-master/trappeua.ff/hydrocarbons/C4H10_ISO.itp  \n",
      "  inflating: trappeua-master/trappeua.ff/hydrocarbons/C4H10_ISO.pdb  \n",
      "  inflating: trappeua-master/trappeua.ff/hydrocarbons/C50H102.gro  \n",
      "  inflating: trappeua-master/trappeua.ff/hydrocarbons/C50H102.itp  \n",
      "  inflating: trappeua-master/trappeua.ff/hydrocarbons/C50H102.pdb  \n",
      "  inflating: trappeua-master/trappeua.ff/hydrocarbons/C51H104.gro  \n",
      "  inflating: trappeua-master/trappeua.ff/hydrocarbons/C51H104.itp  \n",
      "  inflating: trappeua-master/trappeua.ff/hydrocarbons/C51H104.pdb  \n",
      "  inflating: trappeua-master/trappeua.ff/hydrocarbons/C52H106.gro  \n",
      "  inflating: trappeua-master/trappeua.ff/hydrocarbons/C52H106.itp  \n",
      "  inflating: trappeua-master/trappeua.ff/hydrocarbons/C52H106.pdb  \n",
      "  inflating: trappeua-master/trappeua.ff/hydrocarbons/C53H108.gro  \n",
      "  inflating: trappeua-master/trappeua.ff/hydrocarbons/C53H108.itp  \n",
      "  inflating: trappeua-master/trappeua.ff/hydrocarbons/C53H108.pdb  \n",
      "  inflating: trappeua-master/trappeua.ff/hydrocarbons/C54H110.gro  \n",
      "  inflating: trappeua-master/trappeua.ff/hydrocarbons/C54H110.itp  \n",
      "  inflating: trappeua-master/trappeua.ff/hydrocarbons/C54H110.pdb  \n",
      "  inflating: trappeua-master/trappeua.ff/hydrocarbons/C55H112.gro  \n",
      "  inflating: trappeua-master/trappeua.ff/hydrocarbons/C55H112.itp  \n",
      "  inflating: trappeua-master/trappeua.ff/hydrocarbons/C55H112.pdb  \n",
      "  inflating: trappeua-master/trappeua.ff/hydrocarbons/C56H114.gro  \n",
      "  inflating: trappeua-master/trappeua.ff/hydrocarbons/C56H114.itp  \n",
      "  inflating: trappeua-master/trappeua.ff/hydrocarbons/C56H114.pdb  \n",
      "  inflating: trappeua-master/trappeua.ff/hydrocarbons/C57H116.gro  \n",
      "  inflating: trappeua-master/trappeua.ff/hydrocarbons/C57H116.itp  \n",
      "  inflating: trappeua-master/trappeua.ff/hydrocarbons/C57H116.pdb  \n",
      "  inflating: trappeua-master/trappeua.ff/hydrocarbons/C58H118.gro  \n",
      "  inflating: trappeua-master/trappeua.ff/hydrocarbons/C58H118.itp  \n",
      "  inflating: trappeua-master/trappeua.ff/hydrocarbons/C58H118.pdb  \n",
      "  inflating: trappeua-master/trappeua.ff/hydrocarbons/C59H120.gro  \n",
      "  inflating: trappeua-master/trappeua.ff/hydrocarbons/C59H120.itp  \n",
      "  inflating: trappeua-master/trappeua.ff/hydrocarbons/C59H120.pdb  \n",
      "  inflating: trappeua-master/trappeua.ff/hydrocarbons/C5H12.gro  \n",
      "  inflating: trappeua-master/trappeua.ff/hydrocarbons/C5H12.itp  \n",
      "  inflating: trappeua-master/trappeua.ff/hydrocarbons/C5H12.pdb  \n",
      "  inflating: trappeua-master/trappeua.ff/hydrocarbons/C5H12_ISO.gro  \n",
      "  inflating: trappeua-master/trappeua.ff/hydrocarbons/C5H12_ISO.itp  \n",
      "  inflating: trappeua-master/trappeua.ff/hydrocarbons/C5H12_ISO.pdb  \n",
      "  inflating: trappeua-master/trappeua.ff/hydrocarbons/C60H122.gro  \n",
      "  inflating: trappeua-master/trappeua.ff/hydrocarbons/C60H122.itp  \n",
      "  inflating: trappeua-master/trappeua.ff/hydrocarbons/C60H122.pdb  \n",
      "  inflating: trappeua-master/trappeua.ff/hydrocarbons/C61H124.gro  \n",
      "  inflating: trappeua-master/trappeua.ff/hydrocarbons/C61H124.itp  \n",
      "  inflating: trappeua-master/trappeua.ff/hydrocarbons/C61H124.pdb  \n",
      "  inflating: trappeua-master/trappeua.ff/hydrocarbons/C62H126.gro  \n",
      "  inflating: trappeua-master/trappeua.ff/hydrocarbons/C62H126.itp  \n",
      "  inflating: trappeua-master/trappeua.ff/hydrocarbons/C62H126.pdb  \n",
      "  inflating: trappeua-master/trappeua.ff/hydrocarbons/C63H128.gro  \n",
      "  inflating: trappeua-master/trappeua.ff/hydrocarbons/C63H128.itp  \n",
      "  inflating: trappeua-master/trappeua.ff/hydrocarbons/C63H128.pdb  \n",
      "  inflating: trappeua-master/trappeua.ff/hydrocarbons/C64H130.gro  \n",
      "  inflating: trappeua-master/trappeua.ff/hydrocarbons/C64H130.itp  \n",
      "  inflating: trappeua-master/trappeua.ff/hydrocarbons/C64H130.pdb  \n",
      "  inflating: trappeua-master/trappeua.ff/hydrocarbons/C65H132.gro  \n",
      "  inflating: trappeua-master/trappeua.ff/hydrocarbons/C65H132.itp  \n",
      "  inflating: trappeua-master/trappeua.ff/hydrocarbons/C65H132.pdb  \n",
      "  inflating: trappeua-master/trappeua.ff/hydrocarbons/C66H134.gro  \n",
      "  inflating: trappeua-master/trappeua.ff/hydrocarbons/C66H134.itp  \n",
      "  inflating: trappeua-master/trappeua.ff/hydrocarbons/C66H134.pdb  \n",
      "  inflating: trappeua-master/trappeua.ff/hydrocarbons/C67H136.gro  \n",
      "  inflating: trappeua-master/trappeua.ff/hydrocarbons/C67H136.itp  \n",
      "  inflating: trappeua-master/trappeua.ff/hydrocarbons/C67H136.pdb  \n",
      "  inflating: trappeua-master/trappeua.ff/hydrocarbons/C68H138.gro  \n",
      "  inflating: trappeua-master/trappeua.ff/hydrocarbons/C68H138.itp  \n",
      "  inflating: trappeua-master/trappeua.ff/hydrocarbons/C68H138.pdb  \n",
      "  inflating: trappeua-master/trappeua.ff/hydrocarbons/C69H140.gro  \n",
      "  inflating: trappeua-master/trappeua.ff/hydrocarbons/C69H140.itp  \n",
      "  inflating: trappeua-master/trappeua.ff/hydrocarbons/C69H140.pdb  \n",
      "  inflating: trappeua-master/trappeua.ff/hydrocarbons/C6H14.gro  \n",
      "  inflating: trappeua-master/trappeua.ff/hydrocarbons/C6H14.itp  \n",
      "  inflating: trappeua-master/trappeua.ff/hydrocarbons/C6H14.pdb  \n",
      "  inflating: trappeua-master/trappeua.ff/hydrocarbons/C6H6.gro  \n",
      "  inflating: trappeua-master/trappeua.ff/hydrocarbons/C6H6.itp  \n",
      "  inflating: trappeua-master/trappeua.ff/hydrocarbons/C6H6.pdb  \n",
      "  inflating: trappeua-master/trappeua.ff/hydrocarbons/C70H142.gro  \n",
      "  inflating: trappeua-master/trappeua.ff/hydrocarbons/C70H142.itp  \n",
      "  inflating: trappeua-master/trappeua.ff/hydrocarbons/C70H142.pdb  \n",
      "  inflating: trappeua-master/trappeua.ff/hydrocarbons/C71H144.gro  \n",
      "  inflating: trappeua-master/trappeua.ff/hydrocarbons/C71H144.itp  \n",
      "  inflating: trappeua-master/trappeua.ff/hydrocarbons/C71H144.pdb  \n",
      "  inflating: trappeua-master/trappeua.ff/hydrocarbons/C72H146.gro  \n",
      "  inflating: trappeua-master/trappeua.ff/hydrocarbons/C72H146.itp  \n",
      "  inflating: trappeua-master/trappeua.ff/hydrocarbons/C72H146.pdb  \n",
      "  inflating: trappeua-master/trappeua.ff/hydrocarbons/C73H148.gro  \n",
      "  inflating: trappeua-master/trappeua.ff/hydrocarbons/C73H148.itp  \n",
      "  inflating: trappeua-master/trappeua.ff/hydrocarbons/C73H148.pdb  \n",
      "  inflating: trappeua-master/trappeua.ff/hydrocarbons/C74H150.gro  \n",
      "  inflating: trappeua-master/trappeua.ff/hydrocarbons/C74H150.itp  \n",
      "  inflating: trappeua-master/trappeua.ff/hydrocarbons/C74H150.pdb  \n",
      "  inflating: trappeua-master/trappeua.ff/hydrocarbons/C75H152.gro  \n",
      "  inflating: trappeua-master/trappeua.ff/hydrocarbons/C75H152.itp  \n",
      "  inflating: trappeua-master/trappeua.ff/hydrocarbons/C75H152.pdb  \n",
      "  inflating: trappeua-master/trappeua.ff/hydrocarbons/C76H154.gro  \n",
      "  inflating: trappeua-master/trappeua.ff/hydrocarbons/C76H154.itp  \n",
      "  inflating: trappeua-master/trappeua.ff/hydrocarbons/C76H154.pdb  \n",
      "  inflating: trappeua-master/trappeua.ff/hydrocarbons/C77H156.gro  \n"
     ]
    },
    {
     "name": "stdout",
     "output_type": "stream",
     "text": [
      "  inflating: trappeua-master/trappeua.ff/hydrocarbons/C77H156.itp  \n",
      "  inflating: trappeua-master/trappeua.ff/hydrocarbons/C77H156.pdb  \n",
      "  inflating: trappeua-master/trappeua.ff/hydrocarbons/C78H158.gro  \n",
      "  inflating: trappeua-master/trappeua.ff/hydrocarbons/C78H158.itp  \n",
      "  inflating: trappeua-master/trappeua.ff/hydrocarbons/C78H158.pdb  \n",
      "  inflating: trappeua-master/trappeua.ff/hydrocarbons/C79H160.gro  \n",
      "  inflating: trappeua-master/trappeua.ff/hydrocarbons/C79H160.itp  \n",
      "  inflating: trappeua-master/trappeua.ff/hydrocarbons/C79H160.pdb  \n",
      "  inflating: trappeua-master/trappeua.ff/hydrocarbons/C7H16.gro  \n",
      "  inflating: trappeua-master/trappeua.ff/hydrocarbons/C7H16.itp  \n",
      "  inflating: trappeua-master/trappeua.ff/hydrocarbons/C7H16.pdb  \n",
      "  inflating: trappeua-master/trappeua.ff/hydrocarbons/C80H162.gro  \n",
      "  inflating: trappeua-master/trappeua.ff/hydrocarbons/C80H162.itp  \n",
      "  inflating: trappeua-master/trappeua.ff/hydrocarbons/C80H162.pdb  \n",
      "  inflating: trappeua-master/trappeua.ff/hydrocarbons/C81H164.gro  \n",
      "  inflating: trappeua-master/trappeua.ff/hydrocarbons/C81H164.itp  \n",
      "  inflating: trappeua-master/trappeua.ff/hydrocarbons/C81H164.pdb  \n",
      "  inflating: trappeua-master/trappeua.ff/hydrocarbons/C82H166.gro  \n",
      "  inflating: trappeua-master/trappeua.ff/hydrocarbons/C82H166.itp  \n",
      "  inflating: trappeua-master/trappeua.ff/hydrocarbons/C82H166.pdb  \n",
      "  inflating: trappeua-master/trappeua.ff/hydrocarbons/C83H168.gro  \n",
      "  inflating: trappeua-master/trappeua.ff/hydrocarbons/C83H168.itp  \n",
      "  inflating: trappeua-master/trappeua.ff/hydrocarbons/C83H168.pdb  \n",
      "  inflating: trappeua-master/trappeua.ff/hydrocarbons/C84H170.gro  \n",
      "  inflating: trappeua-master/trappeua.ff/hydrocarbons/C84H170.itp  \n",
      "  inflating: trappeua-master/trappeua.ff/hydrocarbons/C84H170.pdb  \n",
      "  inflating: trappeua-master/trappeua.ff/hydrocarbons/C85H172.gro  \n",
      "  inflating: trappeua-master/trappeua.ff/hydrocarbons/C85H172.itp  \n",
      "  inflating: trappeua-master/trappeua.ff/hydrocarbons/C85H172.pdb  \n",
      "  inflating: trappeua-master/trappeua.ff/hydrocarbons/C86H174.gro  \n",
      "  inflating: trappeua-master/trappeua.ff/hydrocarbons/C86H174.itp  \n",
      "  inflating: trappeua-master/trappeua.ff/hydrocarbons/C86H174.pdb  \n",
      "  inflating: trappeua-master/trappeua.ff/hydrocarbons/C87H176.gro  \n",
      "  inflating: trappeua-master/trappeua.ff/hydrocarbons/C87H176.itp  \n",
      "  inflating: trappeua-master/trappeua.ff/hydrocarbons/C87H176.pdb  \n",
      "  inflating: trappeua-master/trappeua.ff/hydrocarbons/C88H178.gro  \n",
      "  inflating: trappeua-master/trappeua.ff/hydrocarbons/C88H178.itp  \n",
      "  inflating: trappeua-master/trappeua.ff/hydrocarbons/C88H178.pdb  \n",
      "  inflating: trappeua-master/trappeua.ff/hydrocarbons/C89H180.gro  \n",
      "  inflating: trappeua-master/trappeua.ff/hydrocarbons/C89H180.itp  \n",
      "  inflating: trappeua-master/trappeua.ff/hydrocarbons/C89H180.pdb  \n",
      "  inflating: trappeua-master/trappeua.ff/hydrocarbons/C8H18.gro  \n",
      "  inflating: trappeua-master/trappeua.ff/hydrocarbons/C8H18.itp  \n",
      "  inflating: trappeua-master/trappeua.ff/hydrocarbons/C8H18.pdb  \n",
      "  inflating: trappeua-master/trappeua.ff/hydrocarbons/C90H182.gro  \n",
      "  inflating: trappeua-master/trappeua.ff/hydrocarbons/C90H182.itp  \n",
      "  inflating: trappeua-master/trappeua.ff/hydrocarbons/C90H182.pdb  \n",
      "  inflating: trappeua-master/trappeua.ff/hydrocarbons/C91H184.gro  \n",
      "  inflating: trappeua-master/trappeua.ff/hydrocarbons/C91H184.itp  \n",
      "  inflating: trappeua-master/trappeua.ff/hydrocarbons/C91H184.pdb  \n",
      "  inflating: trappeua-master/trappeua.ff/hydrocarbons/C92H186.gro  \n",
      "  inflating: trappeua-master/trappeua.ff/hydrocarbons/C92H186.itp  \n",
      "  inflating: trappeua-master/trappeua.ff/hydrocarbons/C92H186.pdb  \n",
      "  inflating: trappeua-master/trappeua.ff/hydrocarbons/C93H188.gro  \n",
      "  inflating: trappeua-master/trappeua.ff/hydrocarbons/C93H188.itp  \n",
      "  inflating: trappeua-master/trappeua.ff/hydrocarbons/C93H188.pdb  \n",
      "  inflating: trappeua-master/trappeua.ff/hydrocarbons/C94H190.gro  \n",
      "  inflating: trappeua-master/trappeua.ff/hydrocarbons/C94H190.itp  \n",
      "  inflating: trappeua-master/trappeua.ff/hydrocarbons/C94H190.pdb  \n",
      "  inflating: trappeua-master/trappeua.ff/hydrocarbons/C95H192.gro  \n",
      "  inflating: trappeua-master/trappeua.ff/hydrocarbons/C95H192.itp  \n",
      "  inflating: trappeua-master/trappeua.ff/hydrocarbons/C95H192.pdb  \n",
      "  inflating: trappeua-master/trappeua.ff/hydrocarbons/C96H194.gro  \n",
      "  inflating: trappeua-master/trappeua.ff/hydrocarbons/C96H194.itp  \n",
      "  inflating: trappeua-master/trappeua.ff/hydrocarbons/C96H194.pdb  \n",
      "  inflating: trappeua-master/trappeua.ff/hydrocarbons/C97H196.gro  \n",
      "  inflating: trappeua-master/trappeua.ff/hydrocarbons/C97H196.itp  \n",
      "  inflating: trappeua-master/trappeua.ff/hydrocarbons/C97H196.pdb  \n",
      "  inflating: trappeua-master/trappeua.ff/hydrocarbons/C98H198.gro  \n",
      "  inflating: trappeua-master/trappeua.ff/hydrocarbons/C98H198.itp  \n",
      "  inflating: trappeua-master/trappeua.ff/hydrocarbons/C98H198.pdb  \n",
      "  inflating: trappeua-master/trappeua.ff/hydrocarbons/C99H200.gro  \n",
      "  inflating: trappeua-master/trappeua.ff/hydrocarbons/C99H200.itp  \n",
      "  inflating: trappeua-master/trappeua.ff/hydrocarbons/C99H200.pdb  \n",
      "  inflating: trappeua-master/trappeua.ff/hydrocarbons/C9H20.gro  \n",
      "  inflating: trappeua-master/trappeua.ff/hydrocarbons/C9H20.itp  \n",
      "  inflating: trappeua-master/trappeua.ff/hydrocarbons/C9H20.pdb  \n",
      "  inflating: trappeua-master/trappeua.ff/liquidcrystals.rtp  \n",
      "   creating: trappeua-master/trappeua.ff/liquidcrystals/\n",
      "  inflating: trappeua-master/trappeua.ff/liquidcrystals/5CB.gro  \n",
      "  inflating: trappeua-master/trappeua.ff/liquidcrystals/5CB.itp  \n",
      "  inflating: trappeua-master/trappeua.ff/liquidcrystals/5CB.pdb  \n",
      "  inflating: trappeua-master/trappeua.ff/tip4p.gro  \n",
      "  inflating: trappeua-master/trappeua.ff/tip4p.itp  \n",
      "  inflating: trappeua-master/trappeua.ff/tip4p.pdb  \n",
      "  inflating: trappeua-master/trappeua.ff/watermodels.dat  \n"
     ]
    }
   ],
   "source": [
    "%%bash\n",
    "\n",
    "wget https://github.com/zhmurov/trappeua/archive/refs/heads/master.zip\n",
    "unzip master.zip\n",
    "rm master.zip\n",
    "mv trappeua-master/trappeua.ff .\n",
    "rm -rf trappeua-master"
   ]
  },
  {
   "cell_type": "markdown",
   "metadata": {},
   "source": [
    "Для того, чтобы GROMACS обнаружил поле и его можно было бы использовать, необходимо чтобы папка с расширением 'ff' находилась в рабочей директории. Поэтому, мы переместили данную папку после распаковки архива. Можно также получить силовое поле напрямую из репозитория:"
   ]
  },
  {
   "cell_type": "code",
   "execution_count": null,
   "metadata": {},
   "outputs": [],
   "source": [
    "%%bash\n",
    "\n",
    "git clone https://github.com/zhmurov/trappeua\n",
    "mv trappeua/trappeua.ff .\n",
    "rm -rf trappeua"
   ]
  },
  {
   "cell_type": "markdown",
   "metadata": {},
   "source": [
    "Данная версия силового поля уже содержит описание и координаты для молекулы 5CB, которые находятся в папке 'trappeua.ff/liquidcrystals/', файл координат:"
   ]
  },
  {
   "cell_type": "code",
   "execution_count": null,
   "metadata": {},
   "outputs": [],
   "source": [
    "!cat trappeua.ff/liquidcrystals/5CB.pdb"
   ]
  },
  {
   "cell_type": "markdown",
   "metadata": {},
   "source": [
    "Файл топологии:"
   ]
  },
  {
   "cell_type": "code",
   "execution_count": null,
   "metadata": {},
   "outputs": [],
   "source": [
    "!cat trappeua.ff/liquidcrystals/5CB.itp"
   ]
  },
  {
   "cell_type": "markdown",
   "metadata": {},
   "source": [
    "Система будет включать 100 молекул внутрии куба с 4х4х4 нм. Для упаковки можно использовать программу Packmol."
   ]
  },
  {
   "cell_type": "code",
   "execution_count": null,
   "metadata": {},
   "outputs": [],
   "source": [
    "%%bash\n",
    "\n",
    "git clone https://github.com/m3g/packmol.git\n",
    "cd packmol\n",
    "git checkout v20.3.5\n",
    "./configure\n",
    "make"
   ]
  },
  {
   "cell_type": "markdown",
   "metadata": {},
   "source": [
    "Конфигурационный файл программы Packmol выглядит слудующим образом:"
   ]
  },
  {
   "cell_type": "code",
   "execution_count": null,
   "metadata": {},
   "outputs": [],
   "source": [
    "!cat ../input/packmol.inp"
   ]
  },
  {
   "cell_type": "markdown",
   "metadata": {},
   "source": [
    "Выполнив комманду:"
   ]
  },
  {
   "cell_type": "code",
   "execution_count": null,
   "metadata": {},
   "outputs": [],
   "source": [
    "!packmol/packmol < ../input/packmol.inp"
   ]
  },
  {
   "cell_type": "markdown",
   "metadata": {},
   "source": [
    "В результате получаем координаты:"
   ]
  },
  {
   "cell_type": "code",
   "execution_count": null,
   "metadata": {},
   "outputs": [],
   "source": [
    "!cat conf.pdb"
   ]
  },
  {
   "cell_type": "code",
   "execution_count": null,
   "metadata": {},
   "outputs": [],
   "source": [
    "Топология системы:"
   ]
  },
  {
   "cell_type": "code",
   "execution_count": null,
   "metadata": {},
   "outputs": [],
   "source": [
    "!cp ../input/topol.top .\n",
    "!cat topol.top"
   ]
  },
  {
   "cell_type": "markdown",
   "metadata": {},
   "source": [
    "## Подготовка системы\n",
    "\n"
   ]
  },
  {
   "cell_type": "code",
   "execution_count": null,
   "metadata": {},
   "outputs": [],
   "source": [
    "!gmx editconf -f conf.pdb -o conf.gro -box 4 4 4\n",
    "!gmx grompp -f ../input/em.mdp -c conf.gro -o em.tpr\n",
    "!gmx mdrun -deffnm em -nt 4"
   ]
  },
  {
   "cell_type": "code",
   "execution_count": null,
   "metadata": {},
   "outputs": [],
   "source": [
    "!gmx grompp -f ../input/nvt.mdp -c em.gro -o nvt.tpr\n",
    "!gmx mdrun -deffnm nvt -nt 4"
   ]
  },
  {
   "cell_type": "code",
   "execution_count": null,
   "metadata": {},
   "outputs": [],
   "source": [
    "!gmx grompp -f ../input/npt.mdp -c nvt.gro -o npt.tpr\n",
    "!gmx mdrun -deffnm npt -nt 4"
   ]
  },
  {
   "cell_type": "markdown",
   "metadata": {},
   "source": [
    "## Моделирование"
   ]
  },
  {
   "cell_type": "code",
   "execution_count": null,
   "metadata": {},
   "outputs": [],
   "source": [
    "%%bash\n",
    "\n",
    "ELECTRIC_FIELD=1.0\n",
    "cp ../input/md_iso_E.mdp md_iso_${ELECTRIC_FIELD}.mdp\n",
    "sed -i \"s/ELECTRIC_FIELD/${ELECTRIC_FIELD}/g\" md_iso_${ELECTRIC_FIELD}.mdp"
   ]
  },
  {
   "cell_type": "code",
   "execution_count": null,
   "metadata": {},
   "outputs": [],
   "source": [
    "!gmx grompp -f md_iso_${ELECTRIC_FIELD}.mdp -c npt.gro -o md_iso_${ELECTRIC_FIELD}.tpr\n",
    "!gmx mdrun -deffnm md_iso_${ELECTRIC_FIELD} -nt 4"
   ]
  },
  {
   "cell_type": "markdown",
   "metadata": {},
   "source": [
    "# Немного анализа результатов"
   ]
  },
  {
   "cell_type": "code",
   "execution_count": null,
   "metadata": {},
   "outputs": [],
   "source": [
    "import MDAnalysis as mda\n",
    "\n",
    "#electric_fields = [\"0.00\", \"0.01\", \"0.1\", \"1.0\", \"10.0\", \"50.0\"]\n",
    "electric_fields = [\"0.2\", \"0.5\"]\n",
    "\n",
    "for electric_field in electric_fields:\n",
    "\n",
    "    u = mda.Universe(\"data/long/conf.pdb\", \"data/long/md_iso_\" + electric_field + \".xtc\", in_memory=\"True\")\n",
    "    step = 0\n",
    "    order_params = []\n",
    "    times  = []\n",
    "    for ts in u.trajectory:\n",
    "        box = ts.dimensions\n",
    "        cosxi2 = 0.0\n",
    "        ncosxi2 = 0\n",
    "        ends1 = u.select_atoms(\"name N1\")\n",
    "        ends2 = u.select_atoms(\"name C19\")\n",
    "        for i in range(0, len(ends1) - 1):\n",
    "            endi1 = ends1[i].position\n",
    "            endi2 = ends2[i].position\n",
    "            ri = endi2 - endi1\n",
    "            ri[0] = ri[0] - round(ri[0] / box[0]) * box[0]\n",
    "            ri[1] = ri[1] - round(ri[1] / box[1]) * box[1]\n",
    "            ri[2] = ri[2] - round(ri[2] / box[2]) * box[2]\n",
    "            ri_len = (ri[0]*ri[0] + ri[1]*ri[1] + ri[2]*ri[2]) ** 0.5\n",
    "            for j in range(i + 1, len(ends1)):\n",
    "                endj1 = ends1[j].position\n",
    "                endj2 = ends2[j].position\n",
    "                rj = endj2 - endj1\n",
    "                rj[0] = rj[0] - round(rj[0] / box[0]) * box[0]\n",
    "                rj[1] = rj[1] - round(rj[1] / box[1]) * box[1]\n",
    "                rj[2] = rj[2] - round(rj[2] / box[2]) * box[2]\n",
    "                rj_len = (rj[0]*rj[0] + rj[1]*rj[1] + rj[2]*rj[2]) ** 0.5\n",
    "                cosxi = (ri[0]*rj[0] + ri[1]*rj[1] + ri[2]*rj[2]) / (ri_len * rj_len)\n",
    "                cosxi2 += cosxi*cosxi\n",
    "                ncosxi2 += 1\n",
    "        cosxi2 /= ncosxi2\n",
    "        order_param = (3.0*cosxi2 - 1.0)/2.0\n",
    "        order_params.append(order_param)\n",
    "        times.append(step)\n",
    "        step += 1\n",
    "        print(step, order_param)\n",
    "\n",
    "    import matplotlib.pyplot as plt\n",
    "    fig = plt.figure()\n",
    "    plt.plot(times, order_params)\n",
    "    plt.show()\n",
    "    fig.savefig(\"order_parameter_\" + electric_field + \".png\")"
   ]
  },
  {
   "cell_type": "code",
   "execution_count": null,
   "metadata": {},
   "outputs": [],
   "source": []
  }
 ],
 "metadata": {
  "kernelspec": {
   "display_name": "Python 3 (ipykernel)",
   "language": "python",
   "name": "python3"
  },
  "language_info": {
   "codemirror_mode": {
    "name": "ipython",
    "version": 3
   },
   "file_extension": ".py",
   "mimetype": "text/x-python",
   "name": "python",
   "nbconvert_exporter": "python",
   "pygments_lexer": "ipython3",
   "version": "3.10.12"
  }
 },
 "nbformat": 4,
 "nbformat_minor": 2
}
