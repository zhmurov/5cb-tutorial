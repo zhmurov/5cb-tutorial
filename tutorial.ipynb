{
 "cells": [
  {
   "cell_type": "code",
   "execution_count": null,
   "metadata": {},
   "outputs": [],
   "source": [
    "!gmx --version"
   ]
  },
  {
   "cell_type": "code",
   "execution_count": null,
   "metadata": {},
   "outputs": [],
   "source": [
    "%%bash\n",
    "\n",
    "git clone https://github.com/m3g/packmol.git\n",
    "cd packmol\n",
    "git checkout v20.3.5\n",
    "./configure\n",
    "make"
   ]
  },
  {
   "cell_type": "code",
   "execution_count": null,
   "metadata": {},
   "outputs": [],
   "source": [
    "!git clone https://github.com/zhmurov/trappeua\n",
    "!mv trappeua/trappeua.ff .\n",
    "!rm -rf trappeua"
   ]
  },
  {
   "cell_type": "code",
   "execution_count": null,
   "metadata": {},
   "outputs": [],
   "source": [
    "!packmol/packmol < input/packmol.inp"
   ]
  },
  {
   "cell_type": "code",
   "execution_count": null,
   "metadata": {},
   "outputs": [],
   "source": [
    "!mv input/topol.top .\n",
    "!gmx editconf -f conf.pdb -o conf.gro -box 4 4 4\n",
    "!gmx grompp -f input/em.mdp -c conf.gro -o em.tpr\n",
    "!gmx mdrun -deffnm em\n",
    "\n",
    "!gmx grompp -f input/nvt.mdp -c em.gro -o nvt.tpr\n",
    "!gmx mdrun -deffnm nvt\n",
    "!gmx grompp -f input/npt.mdp -c nvt.gro -o npt.tpr\n",
    "!gmx mdrun -deffnm npt"
   ]
  }
 ],
 "metadata": {
  "kernelspec": {
   "display_name": "Python 3 (ipykernel)",
   "language": "python",
   "name": "python3"
  },
  "language_info": {
   "codemirror_mode": {
    "name": "ipython",
    "version": 3
   },
   "file_extension": ".py",
   "mimetype": "text/x-python",
   "name": "python",
   "nbconvert_exporter": "python",
   "pygments_lexer": "ipython3",
   "version": "3.10.12"
  }
 },
 "nbformat": 4,
 "nbformat_minor": 2
}
